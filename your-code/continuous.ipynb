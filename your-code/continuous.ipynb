{
 "cells": [
  {
   "cell_type": "markdown",
   "metadata": {},
   "source": [
    "# Before your start:\n",
    "\n",
    "    Read the README.md file\n",
    "    Comment as much as you can and use the resources (README.md file)\n",
    "    Happy learning!"
   ]
  },
  {
   "cell_type": "markdown",
   "metadata": {},
   "source": [
    "In this exercise, we  will generate random numbers from the continuous disributions we learned in the lesson. There are two ways to generate random numbers:\n",
    "\n",
    "1. Using the numpy library \n",
    "1. using the Scipy library \n",
    "\n",
    "Use either or both of the lbraries in this exercise."
   ]
  },
  {
   "cell_type": "markdown",
   "metadata": {},
   "source": [
    "## Uniform Distribution\n",
    "\n",
    "To generate uniform random numbers between any two given values using scipy, we can either use the following code or the code that we have\n",
    "discussed in class:"
   ]
  },
  {
   "cell_type": "code",
   "execution_count": 1,
   "metadata": {},
   "outputs": [
    {
     "name": "stdout",
     "output_type": "stream",
     "text": [
      "[2.2056172  2.52558717 2.93789978 2.54039995 2.16692461 2.73665528\n",
      " 2.05555201 2.7724805  2.23074276 2.92548276]\n"
     ]
    }
   ],
   "source": [
    "from scipy.stats import uniform\n",
    "x = uniform.rvs(size=10)\n",
    "a = 2\n",
    "b = 3\n",
    "randoms  = a + (b-a)*x\n",
    "print(randoms)"
   ]
  },
  {
   "cell_type": "markdown",
   "metadata": {},
   "source": [
    "**Your task:**\n",
    "\n",
    "1. Based on the code above, write a function that generates uniformly distributed random numbers. There are several requirements for your function:\n",
    "    * It should accept 3 parameters: \n",
    "        * `bottom` - the lower boundary of the generated numbers\n",
    "        * `ceiling` - the upper boundary of the generated numbers\n",
    "        * `count` - how many numbers to generate\n",
    "    * It should return an array of uniformly distributed random numbers\n",
    "\n",
    "1. Call your function with 2 sets of params below:\n",
    "    * bottom=10, ceiling=15, count=100\n",
    "    * bottom=10, ceiling=60, count=1,000\n",
    "\n",
    "1. Plot the uniform distributions generated above using histograms, where x axis is the value and y axis is the count. Let the histogram's number of bins be 10.\n",
    "\n",
    "Your output should look like below:\n",
    "\n",
    "![uniform distribution](ud.png)"
   ]
  },
  {
   "cell_type": "code",
   "execution_count": 4,
   "metadata": {},
   "outputs": [
    {
     "data": {
      "text/plain": [
       "(array([115., 101.,  88.,  97.,  98., 115.,  94.,  99., 102.,  91.]),\n",
       " array([10.08198928, 15.06946847, 20.05694766, 25.04442686, 30.03190605,\n",
       "        35.01938524, 40.00686443, 44.99434362, 49.98182281, 54.969302  ,\n",
       "        59.95678119]),\n",
       " <BarContainer object of 10 artists>)"
      ]
     },
     "execution_count": 4,
     "metadata": {},
     "output_type": "execute_result"
    },
    {
     "data": {
      "image/png": "[encoded data removed]",
      "text/plain": [
       "<Figure size 432x288 with 2 Axes>"
      ]
     },
     "metadata": {
      "needs_background": "light"
     },
     "output_type": "display_data"
    }
   ],
   "source": [
    "# your code here\n",
    "import matplotlib.pyplot as plt\n",
    "import numpy as np\n",
    "def random(a,b,c):\n",
    "    x = uniform.rvs(size=c)\n",
    "    randoms = a + (b-a)*x\n",
    "    return randoms\n",
    "\n",
    "set1 = random(10,15,100)\n",
    "set2 = random(10,60,1000)\n",
    "\n",
    "\n",
    "f, (ax1, ax2) = plt.subplots(1, 2, sharey=True)\n",
    "ax1.hist(set1)\n",
    "ax2.hist(set2)"
   ]
  },
  {
   "cell_type": "markdown",
   "metadata": {},
   "source": [
    "How are the two distributions different?"
   ]
  },
  {
   "cell_type": "code",
   "execution_count": null,
   "metadata": {},
   "outputs": [],
   "source": [
    "# your answer here:\n",
    "#Since both graphs are distributed automatically in 10 Bins, the one on the right looks higher (hence more repetitions), but it shouldn't be that different"
   ]
  },
  {
   "cell_type": "markdown",
   "metadata": {},
   "source": [
    "## Normal Distribution\n",
    "\n",
    "1. In the same way in the Uniform Distribution challenge, write a function that generates normally distributed random numbers.\n",
    "1. Generate 1,000 normally distributed numbers with the average of 10 and standard deviation of 1\n",
    "1. Generate 1,000 normally distributed numbers with the average of 10 and standard deviation of 50\n",
    "2. Plot the distributions of the data generated.\n",
    "\n",
    "Expected output:\n",
    "\n",
    "![normal distribution](nd.png)"
   ]
  },
  {
   "cell_type": "code",
   "execution_count": 9,
   "metadata": {},
   "outputs": [
    {
     "data": {
      "text/plain": [
       "(array([ 1.,  0.,  0.,  1.,  0.,  1.,  1.,  0.,  5.,  5.,  5., 13.,  9.,\n",
       "        14., 14., 27., 21., 21., 37., 33., 39., 43., 44., 54., 42., 58.,\n",
       "        45., 38., 50., 46., 41., 43., 38., 34., 31., 31., 21., 23.,  9.,\n",
       "        15.,  8.,  8.,  7., 11.,  2.,  2.,  5.,  1.,  1.,  2.]),\n",
       " array([-160.67495519, -154.25629193, -147.83762866, -141.4189654 ,\n",
       "        -135.00030214, -128.58163888, -122.16297562, -115.74431235,\n",
       "        -109.32564909, -102.90698583,  -96.48832257,  -90.06965931,\n",
       "         -83.65099605,  -77.23233278,  -70.81366952,  -64.39500626,\n",
       "         -57.976343  ,  -51.55767974,  -45.13901648,  -38.72035321,\n",
       "         -32.30168995,  -25.88302669,  -19.46436343,  -13.04570017,\n",
       "          -6.6270369 ,   -0.20837364,    6.21028962,   12.62895288,\n",
       "          19.04761614,   25.4662794 ,   31.88494267,   38.30360593,\n",
       "          44.72226919,   51.14093245,   57.55959571,   63.97825898,\n",
       "          70.39692224,   76.8155855 ,   83.23424876,   89.65291202,\n",
       "          96.07157528,  102.49023855,  108.90890181,  115.32756507,\n",
       "         121.74622833,  128.16489159,  134.58355485,  141.00221812,\n",
       "         147.42088138,  153.83954464,  160.2582079 ]),\n",
       " <BarContainer object of 50 artists>)"
      ]
     },
     "execution_count": 9,
     "metadata": {},
     "output_type": "execute_result"
    },
    {
     "data": {
      "image/png": "[encoded data removed]",
      "text/plain": [
       "<Figure size 432x288 with 2 Axes>"
      ]
     },
     "metadata": {
      "needs_background": "light"
     },
     "output_type": "display_data"
    }
   ],
   "source": [
    "# your code here\n",
    "# a = mean\n",
    "# b = std dev\n",
    "# c = range\n",
    "def random(a,b,c):\n",
    "    x = a + b * np.random.randn(c)\n",
    "    return x\n",
    "\n",
    "set1 = random(10,1,1000)\n",
    "set2 = random(10,50,1000)\n",
    "\n",
    "\n",
    "f, (ax1, ax2) = plt.subplots(1, 2, sharey=True)\n",
    "ax1.hist(set1, 50)\n",
    "ax2.hist(set2, 50)"
   ]
  },
  {
   "cell_type": "markdown",
   "metadata": {},
   "source": [
    "How are the two distributions different?"
   ]
  },
  {
   "cell_type": "code",
   "execution_count": null,
   "metadata": {},
   "outputs": [],
   "source": [
    "# your answer here:\n",
    "#The amount of numbers around the mean is bigger in the first case because of the lower standard deviation"
   ]
  },
  {
   "cell_type": "markdown",
   "metadata": {},
   "source": [
    "## Normal Distribution of Real Data\n",
    "\n",
    "In this challenge we are going to take a look the real data. We will use vehicles.csv file for this exercise"
   ]
  },
  {
   "cell_type": "markdown",
   "metadata": {},
   "source": [
    "First import vehicles.csv.\n",
    "Then plot the histograms for the following variables:\n",
    "\n",
    "1. Fuel Barrels/Year"
   ]
  },
  {
   "cell_type": "code",
   "execution_count": 18,
   "metadata": {},
   "outputs": [
    {
     "data": {
      "text/plain": [
       "(array([6.000e+01, 3.000e+00, 2.000e+00, 8.000e+00, 8.000e+00, 1.000e+01,\n",
       "        2.500e+01, 4.200e+01, 1.600e+02, 1.370e+02, 4.210e+02, 7.050e+02,\n",
       "        1.754e+03, 2.305e+03, 1.580e+03, 4.020e+03, 3.167e+03, 3.092e+03,\n",
       "        3.231e+03, 3.529e+03, 2.308e+03, 2.305e+03, 6.500e+01, 2.348e+03,\n",
       "        1.940e+03, 8.600e+01, 1.245e+03, 3.000e+01, 5.000e+00, 7.300e+02,\n",
       "        0.000e+00, 4.390e+02, 0.000e+00, 0.000e+00, 1.300e+02, 0.000e+00,\n",
       "        0.000e+00, 0.000e+00, 3.600e+01, 0.000e+00, 0.000e+00, 0.000e+00,\n",
       "        0.000e+00, 2.100e+01, 0.000e+00, 0.000e+00, 0.000e+00, 0.000e+00,\n",
       "        0.000e+00, 5.000e+00]),\n",
       " array([ 0.06      ,  1.00054286,  1.94108571,  2.88162857,  3.82217143,\n",
       "         4.76271429,  5.70325714,  6.6438    ,  7.58434286,  8.52488571,\n",
       "         9.46542857, 10.40597143, 11.34651429, 12.28705714, 13.2276    ,\n",
       "        14.16814286, 15.10868571, 16.04922857, 16.98977143, 17.93031429,\n",
       "        18.87085714, 19.8114    , 20.75194286, 21.69248571, 22.63302857,\n",
       "        23.57357143, 24.51411429, 25.45465714, 26.3952    , 27.33574286,\n",
       "        28.27628571, 29.21682857, 30.15737143, 31.09791429, 32.03845714,\n",
       "        32.979     , 33.91954286, 34.86008571, 35.80062857, 36.74117143,\n",
       "        37.68171429, 38.62225714, 39.5628    , 40.50334286, 41.44388571,\n",
       "        42.38442857, 43.32497143, 44.26551429, 45.20605714, 46.1466    ,\n",
       "        47.08714286]),\n",
       " <BarContainer object of 50 artists>)"
      ]
     },
     "execution_count": 18,
     "metadata": {},
     "output_type": "execute_result"
    },
    {
     "data": {
      "image/png": "[encoded data removed]",
      "text/plain": [
       "<Figure size 432x288 with 1 Axes>"
      ]
     },
     "metadata": {
      "needs_background": "light"
     },
     "output_type": "display_data"
    }
   ],
   "source": [
    "# your code here\n",
    "import pandas as pd\n",
    "vehicles = pd.read_csv(\"vehicles.csv\")\n",
    "plt.hist(vehicles[\"Fuel Barrels/Year\"], 50)"
   ]
  },
  {
   "cell_type": "markdown",
   "metadata": {},
   "source": [
    "2. CO2 Emission Grams/Mile "
   ]
  },
  {
   "cell_type": "code",
   "execution_count": 19,
   "metadata": {},
   "outputs": [
    {
     "data": {
      "text/plain": [
       "(array([5.000e+00, 4.000e+00, 7.000e+00, 1.400e+01, 4.000e+00, 2.400e+01,\n",
       "        5.400e+01, 1.590e+02, 1.480e+02, 4.470e+02, 1.061e+03, 1.349e+03,\n",
       "        2.219e+03, 1.797e+03, 3.779e+03, 3.264e+03, 3.145e+03, 3.232e+03,\n",
       "        3.499e+03, 2.271e+03, 2.450e+02, 2.214e+03, 2.276e+03, 1.460e+02,\n",
       "        1.944e+03, 3.600e+01, 1.225e+03, 3.700e+01, 7.090e+02, 3.000e+00,\n",
       "        6.000e+00, 4.370e+02, 3.000e+00, 0.000e+00, 1.270e+02, 0.000e+00,\n",
       "        0.000e+00, 0.000e+00, 3.600e+01, 0.000e+00, 0.000e+00, 0.000e+00,\n",
       "        0.000e+00, 2.100e+01, 0.000e+00, 0.000e+00, 0.000e+00, 0.000e+00,\n",
       "        0.000e+00, 5.000e+00]),\n",
       " array([  37.        ,   61.65142857,   86.30285714,  110.95428571,\n",
       "         135.60571429,  160.25714286,  184.90857143,  209.56      ,\n",
       "         234.21142857,  258.86285714,  283.51428571,  308.16571429,\n",
       "         332.81714286,  357.46857143,  382.12      ,  406.77142857,\n",
       "         431.42285714,  456.07428571,  480.72571429,  505.37714286,\n",
       "         530.02857143,  554.68      ,  579.33142857,  603.98285714,\n",
       "         628.63428571,  653.28571429,  677.93714286,  702.58857143,\n",
       "         727.24      ,  751.89142857,  776.54285714,  801.19428571,\n",
       "         825.84571429,  850.49714286,  875.14857143,  899.8       ,\n",
       "         924.45142857,  949.10285714,  973.75428571,  998.40571429,\n",
       "        1023.05714286, 1047.70857143, 1072.36      , 1097.01142857,\n",
       "        1121.66285714, 1146.31428571, 1170.96571429, 1195.61714286,\n",
       "        1220.26857143, 1244.92      , 1269.57142857]),\n",
       " <BarContainer object of 50 artists>)"
      ]
     },
     "execution_count": 19,
     "metadata": {},
     "output_type": "execute_result"
    },
    {
     "data": {
      "image/png": "[encoded data removed]",
      "text/plain": [
       "<Figure size 432x288 with 1 Axes>"
      ]
     },
     "metadata": {
      "needs_background": "light"
     },
     "output_type": "display_data"
    }
   ],
   "source": [
    "# your code here\n",
    "plt.hist(vehicles[\"CO2 Emission Grams/Mile\"], 50)\n"
   ]
  },
  {
   "cell_type": "markdown",
   "metadata": {},
   "source": [
    "3. Combined MPG"
   ]
  },
  {
   "cell_type": "code",
   "execution_count": 20,
   "metadata": {},
   "outputs": [
    {
     "data": {
      "text/plain": [
       "(array([5.000e+00, 2.100e+01, 4.000e+01, 1.310e+02, 4.410e+02, 7.410e+02,\n",
       "        1.255e+03, 1.947e+03, 2.241e+03, 2.315e+03, 2.420e+03, 3.559e+03,\n",
       "        3.282e+03, 3.093e+03, 3.158e+03, 2.247e+03, 1.794e+03, 1.546e+03,\n",
       "        1.278e+03, 1.067e+03, 6.920e+02, 6.390e+02, 4.530e+02, 3.710e+02,\n",
       "        2.610e+02, 1.690e+02, 1.760e+02, 1.620e+02, 7.100e+01, 5.800e+01,\n",
       "        4.100e+01, 4.300e+01, 2.300e+01, 6.500e+01, 3.800e+01, 3.700e+01,\n",
       "        7.000e+00, 5.000e+00, 5.000e+00, 1.100e+01, 1.600e+01, 2.000e+00,\n",
       "        0.000e+00, 1.500e+01, 0.000e+00, 5.000e+00, 4.000e+00, 0.000e+00,\n",
       "        0.000e+00, 2.000e+00]),\n",
       " array([ 7.  ,  7.98,  8.96,  9.94, 10.92, 11.9 , 12.88, 13.86, 14.84,\n",
       "        15.82, 16.8 , 17.78, 18.76, 19.74, 20.72, 21.7 , 22.68, 23.66,\n",
       "        24.64, 25.62, 26.6 , 27.58, 28.56, 29.54, 30.52, 31.5 , 32.48,\n",
       "        33.46, 34.44, 35.42, 36.4 , 37.38, 38.36, 39.34, 40.32, 41.3 ,\n",
       "        42.28, 43.26, 44.24, 45.22, 46.2 , 47.18, 48.16, 49.14, 50.12,\n",
       "        51.1 , 52.08, 53.06, 54.04, 55.02, 56.  ]),\n",
       " <BarContainer object of 50 artists>)"
      ]
     },
     "execution_count": 20,
     "metadata": {},
     "output_type": "execute_result"
    },
    {
     "data": {
      "image/png": "[encoded data removed]",
      "text/plain": [
       "<Figure size 432x288 with 1 Axes>"
      ]
     },
     "metadata": {
      "needs_background": "light"
     },
     "output_type": "display_data"
    }
   ],
   "source": [
    "# your code here\n",
    "plt.hist(vehicles[\"Combined MPG\"], 50)"
   ]
  },
  {
   "cell_type": "markdown",
   "metadata": {},
   "source": [
    "Which one(s) of the variables are nearly normally distributed? How do you know?"
   ]
  },
  {
   "cell_type": "code",
   "execution_count": null,
   "metadata": {},
   "outputs": [],
   "source": [
    "# you answer here:\n",
    "# I would say that all of them may be normally distributed since we have a peak around the average (And as we saw in previous labs, they are higly correlated with each other)"
   ]
  },
  {
   "cell_type": "markdown",
   "metadata": {},
   "source": [
    "## Exponential Distribution"
   ]
  },
  {
   "cell_type": "markdown",
   "metadata": {},
   "source": [
    "1. Using `numpy.random.exponential`, create a function that returns a list of numbers exponentially distributed with the mean of 10. \n",
    "\n",
    "1. Use the function to generate two number sequences with a mean of 1 and 100 and a size of 1000.\n",
    "\n",
    "1. Plot the distributions as histograms with the number of bins as 100.\n",
    "\n",
    "Your output should look like below:\n",
    "\n",
    "![exponential distribution](ed.png)"
   ]
  },
  {
   "cell_type": "code",
   "execution_count": 29,
   "metadata": {},
   "outputs": [
    {
     "data": {
      "text/plain": [
       "<function matplotlib.pyplot.show(close=None, block=None)>"
      ]
     },
     "execution_count": 29,
     "metadata": {},
     "output_type": "execute_result"
    },
    {
     "data": {
      "image/png": "[encoded data removed]",
      "text/plain": [
       "<Figure size 432x288 with 1 Axes>"
      ]
     },
     "metadata": {
      "needs_background": "light"
     },
     "output_type": "display_data"
    },
    {
     "data": {
      "image/png": "[encoded data removed]",
      "text/plain": [
       "<Figure size 432x288 with 2 Axes>"
      ]
     },
     "metadata": {
      "needs_background": "light"
     },
     "output_type": "display_data"
    }
   ],
   "source": [
    "#point 1\n",
    "def random_exponential(mean,size):\n",
    "    return np.random.exponential(mean,size)\n",
    "plt.hist(random_exponential(10,1000), 100)\n",
    "\n",
    "#point 2 & 3\n",
    "set1 = random_exponential(1,1000)\n",
    "set2 = random_exponential(100,1000)\n",
    "\n",
    "\n",
    "f, (ax1, ax2) = plt.subplots(1, 2, sharey=True)\n",
    "ax1.hist(set1, 100)\n",
    "ax2.hist(set2, 100)\n",
    "plt.show"
   ]
  },
  {
   "cell_type": "markdown",
   "metadata": {},
   "source": [
    "How are the two distributions different?"
   ]
  },
  {
   "cell_type": "code",
   "execution_count": null,
   "metadata": {},
   "outputs": [],
   "source": [
    "# your answer here:\n",
    "#they look quite the same, apart of the X-axis, where we can see how the second spread up to 800 while the first only to 6"
   ]
  },
  {
   "cell_type": "markdown",
   "metadata": {},
   "source": [
    "## Exponential Distribution of Real Data\n",
    "\n",
    "Suppose that the amount of time one spends in a bank is exponentially distributed with mean as 10 minutes (i.e. λ = 1/10). What is the probability that a customer will spend less than fifteen minutes in the bank? \n",
    "\n",
    "Write a code in python to solve this problem"
   ]
  },
  {
   "cell_type": "code",
   "execution_count": 35,
   "metadata": {},
   "outputs": [
    {
     "data": {
      "text/plain": [
       "0.7768698398515702"
      ]
     },
     "execution_count": 35,
     "metadata": {},
     "output_type": "execute_result"
    }
   ],
   "source": [
    "# your answer here\n",
    "# Hint: This is same as saying P(x<15)\n",
    "from scipy.stats import expon\n",
    "# rate = 1 every 10 minutes\n",
    "# unit of time = 15 minutes\n",
    "lambda_inv = (10/15)/1\n",
    "exp_distribution = expon(scale=lambda_inv) \n",
    "\n",
    "exp_distribution.cdf(1)\n",
    "\n"
   ]
  },
  {
   "cell_type": "markdown",
   "metadata": {},
   "source": [
    "What is the probability that the customer will spend more than 15 minutes"
   ]
  },
  {
   "cell_type": "code",
   "execution_count": 36,
   "metadata": {},
   "outputs": [
    {
     "data": {
      "text/plain": [
       "0.2231301601484298"
      ]
     },
     "execution_count": 36,
     "metadata": {},
     "output_type": "execute_result"
    }
   ],
   "source": [
    "# your answer here\n",
    "1-exp_distribution.cdf(1)"
   ]
  },
  {
   "cell_type": "code",
   "execution_count": null,
   "metadata": {},
   "outputs": [],
   "source": []
  }
 ],
 "metadata": {
  "kernelspec": {
   "display_name": "Python 3 (ipykernel)",
   "language": "python",
   "name": "python3"
  },
  "language_info": {
   "codemirror_mode": {
    "name": "ipython",
    "version": 3
   },
   "file_extension": ".py",
   "mimetype": "text/x-python",
   "name": "python",
   "nbconvert_exporter": "python",
   "pygments_lexer": "ipython3",
   "version": "3.9.7"
  }
 },
 "nbformat": 4,
 "nbformat_minor": 2
}
